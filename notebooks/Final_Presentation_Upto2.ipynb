{
 "cells": [
  {
   "cell_type": "code",
   "execution_count": 1,
   "id": "dcbadd56-9624-41dd-ab16-09be78549fc8",
   "metadata": {
    "tags": []
   },
   "outputs": [
    {
     "name": "stdout",
     "output_type": "stream",
     "text": [
      "Requirement already satisfied: fredapi in /Users/natnichalerd/anaconda3/lib/python3.11/site-packages (0.5.2)\n",
      "Requirement already satisfied: pandas in /Users/natnichalerd/anaconda3/lib/python3.11/site-packages (from fredapi) (2.0.3)\n",
      "Requirement already satisfied: python-dateutil>=2.8.2 in /Users/natnichalerd/anaconda3/lib/python3.11/site-packages (from pandas->fredapi) (2.8.2)\n",
      "Requirement already satisfied: pytz>=2020.1 in /Users/natnichalerd/anaconda3/lib/python3.11/site-packages (from pandas->fredapi) (2023.3.post1)\n",
      "Requirement already satisfied: tzdata>=2022.1 in /Users/natnichalerd/anaconda3/lib/python3.11/site-packages (from pandas->fredapi) (2023.3)\n",
      "Requirement already satisfied: numpy>=1.21.0 in /Users/natnichalerd/anaconda3/lib/python3.11/site-packages (from pandas->fredapi) (1.24.3)\n",
      "Requirement already satisfied: six>=1.5 in /Users/natnichalerd/anaconda3/lib/python3.11/site-packages (from python-dateutil>=2.8.2->pandas->fredapi) (1.16.0)\n",
      "Note: you may need to restart the kernel to use updated packages.\n"
     ]
    }
   ],
   "source": [
    "pip install fredapi"
   ]
  },
  {
   "cell_type": "code",
   "execution_count": 3,
   "id": "a1e69860-7cd0-4f84-b1a3-a9a8040a5472",
   "metadata": {
    "tags": []
   },
   "outputs": [],
   "source": [
    "# imports\n",
    "import yfinance as yf\n",
    "import numpy as np\n",
    "from scipy.optimize import minimize\n",
    "import matplotlib.pyplot as plt\n",
    "import pandas as pd\n",
    "import pandas_datareader as DataReader\n",
    "import seaborn as sns\n",
    "from datetime import datetime\n",
    "from fredapi import Fred"
   ]
  },
  {
   "cell_type": "code",
   "execution_count": null,
   "id": "1884c31e-7b1a-4f80-baeb-497db890ac2e",
   "metadata": {
    "tags": []
   },
   "outputs": [
    {
     "name": "stderr",
     "output_type": "stream",
     "text": [
      "[*********************100%***********************]  1 of 1 completed"
     ]
    },
    {
     "name": "stdout",
     "output_type": "stream",
     "text": [
      "                  Open        High         Low       Close   Adj Close  \\\n",
      "Date                                                                     \n",
      "2020-01-02  206.750000  209.789993  206.270004  209.779999  209.150269   \n",
      "2020-01-03  207.210007  210.399994  206.949997  208.669998  208.043594   \n",
      "2020-01-06  206.699997  212.779999  206.520004  212.600006  211.961823   \n",
      "2020-01-07  212.820007  214.580002  211.750000  213.059998  212.420425   \n",
      "2020-01-08  213.000000  216.240005  212.610001  215.220001  214.573944   \n",
      "...                ...         ...         ...         ...         ...   \n",
      "2024-08-26  527.599976  528.000000  514.950012  521.119995  520.623352   \n",
      "2024-08-27  518.979980  524.010010  515.309998  519.099976  518.605225   \n",
      "2024-08-28  517.669983  521.090027  512.450012  516.780029  516.287476   \n",
      "2024-08-29  519.049988  527.200012  515.679993  518.219971  517.726074   \n",
      "2024-08-30  521.349976  523.539978  515.200012  521.309998  520.813171   \n",
      "\n",
      "              Volume  \n",
      "Date                  \n",
      "2020-01-02  12077100  \n",
      "2020-01-03  11188400  \n",
      "2020-01-06  17058900  \n",
      "2020-01-07  14912400  \n",
      "2020-01-08  13475000  \n",
      "...              ...  \n",
      "2024-08-26   9584000  \n",
      "2024-08-27   6282700  \n",
      "2024-08-28   9106100  \n",
      "2024-08-29   8317400  \n",
      "2024-08-30   9157500  \n",
      "\n",
      "[1174 rows x 6 columns]\n"
     ]
    },
    {
     "name": "stderr",
     "output_type": "stream",
     "text": [
      "\n"
     ]
    }
   ],
   "source": [
    "# META\n",
    "# Define the stock symbol and the time period\n",
    "ticker_symbol = \"META\"  # META\n",
    "start_date = \"2020-01-01\"  # Start date (YYYY-MM-DD)\n",
    "end_date = \"2024-08-31\"  # End date (YYYY-MM-DD)\n",
    "\n",
    "# Fetch the stock data\n",
    "stock_data = yf.download(ticker_symbol, start=start_date, end=end_date)\n",
    "\n",
    "# Display the data\n",
    "print(stock_data)"
   ]
  },
  {
   "cell_type": "code",
   "execution_count": null,
   "id": "054bd3a7-2f25-463c-9929-cc401662789e",
   "metadata": {},
   "outputs": [
    {
     "name": "stdout",
     "output_type": "stream",
     "text": [
      "            Mkt-RF   SMB   HML   RMW   CMA     RF\n",
      "date                                             \n",
      "1963-07-01   -0.67  0.02 -0.35  0.03  0.13  0.012\n",
      "1963-07-02    0.79 -0.28  0.28 -0.08 -0.21  0.012\n",
      "1963-07-03    0.63 -0.18 -0.10  0.13 -0.25  0.012\n",
      "1963-07-05    0.40  0.09 -0.28  0.07 -0.30  0.012\n",
      "1963-07-08   -0.63  0.07 -0.20 -0.27  0.06  0.012\n",
      "(15417, 6)\n"
     ]
    }
   ],
   "source": [
    "# 1. FAMA-FRENCH 5 FACTORS\n",
    "# Get the Fama French 5 factor model (monthly data)\n",
    "column_names = [\"date\", \"Mkt-RF\", \"SMB\", \"HML\", \"RMW\", \"CMA\", \"RF\"]\n",
    "data_ff5 = pd.read_csv(\n",
    "    \"F-F_Research_Data_5_Factors_2x3_daily.csv\",\n",
    "    usecols=range(7),  # Only read the first 7 columns\n",
    "    names=column_names,\n",
    "    header=None,\n",
    "    skiprows=4,\n",
    ")\n",
    "data_ff5[\"date\"] = (\n",
    "    data_ff5[\"date\"].astype(str).str[0:4]\n",
    "    + \"-\"\n",
    "    + data_ff5[\"date\"].astype(str).str[4:6]\n",
    "    + \"-\"\n",
    "    + data_ff5[\"date\"].astype(str).str[6:8]\n",
    ")\n",
    "\n",
    "data_ff5[\"date\"] = pd.to_datetime(data_ff5[\"date\"], format=\"%Y-%m-%d\")\n",
    "data_ff5[\"date\"] = data_ff5[\"date\"].dt.date\n",
    "df_ffs = data_ff5.set_index(\"date\")\n",
    "\n",
    "print(df_ffs.head())\n",
    "print(df_ffs.shape)"
   ]
  },
  {
   "cell_type": "code",
   "execution_count": null,
   "id": "20917558-e6b6-495a-b5d1-cbf54064df02",
   "metadata": {},
   "outputs": [],
   "source": [
    "# 2. ADS INDEX\n",
    "data_ads = pd.read_excel(\"ADS_Index_Most_Current_Vintage.xlsx\")\n",
    "# manually replace : into -\n",
    "df_ads = data_ads.set_index(\"date\")\n",
    "df_ads.index = pd.to_datetime(df_ads.index, format=\"%Y:%m:%d\")"
   ]
  },
  {
   "cell_type": "code",
   "execution_count": null,
   "id": "b6c9e51a-fd78-4e00-8edd-dc01184b5ac8",
   "metadata": {},
   "outputs": [],
   "source": [
    "# 3. FRED DATA\n",
    "fred = Fred(api_key=\"54dfdd8235a4e8e857eb4e5e4e77aed4\")\n",
    "varList = [\n",
    "    \"T10Y3M\",\n",
    "    \"DGS10\",\n",
    "    \"OBMMIJUMBO30YF\",  # term premium 10yr-3mon, 30 yr mortgage jumbo loan\n",
    "    \"DEXUSEU\",\n",
    "    \"DEXJPUS\",\n",
    "    \"DEXUSUK\",  # spot exchange rates to EUR, JPY, GBP\n",
    "    \"CBBTCUSD\",\n",
    "    \"CBETHUSD\",  # cryptocurrencies\n",
    "    \"T10YIE\",\n",
    "    \"DCOILBRENTEU\",  # breakeven inflation + brent oil price\n",
    "    \"VIXCLS\",  # implied volatilities\n",
    "    \"DAAA\",\n",
    "    \"DBAA\",  # corporate bond yield\n",
    "    \"AMERIBOR\",\n",
    "    \"T5YIE\",\n",
    "    \"BAMLH0A0HYM2\",\n",
    "    \"BAMLH0A0HYM2EY\",\n",
    "    \"DGS1\",\n",
    "    \"DCOILWTICO\",\n",
    "    \"DHHNGSP\",\n",
    "]\n",
    "\n",
    "SP500 = fred.get_series(\"SP500\")\n",
    "SP500.name = \"SP500\"\n",
    "df_fred = SP500\n",
    "\n",
    "# merge data series\n",
    "for i in range(0, len(varList)):\n",
    "    data = fred.get_series(varList[i])\n",
    "    data.name = varList[i]\n",
    "    df_fred = pd.merge(df_fred, data, left_index=True, right_index=True)"
   ]
  },
  {
   "cell_type": "code",
   "execution_count": 32,
   "id": "7d2b0c04-b08f-458b-92dc-1276bdafd940",
   "metadata": {
    "tags": []
   },
   "outputs": [
    {
     "name": "stdout",
     "output_type": "stream",
     "text": [
      "df_ffs index: Index([1963-07-01, 1963-07-02, 1963-07-03, 1963-07-05, 1963-07-08, 1963-07-09,\n",
      "       1963-07-10, 1963-07-11, 1963-07-12, 1963-07-15,\n",
      "       ...\n",
      "       2024-09-17, 2024-09-18, 2024-09-19, 2024-09-20, 2024-09-23, 2024-09-24,\n",
      "       2024-09-25, 2024-09-26, 2024-09-27, 2024-09-30],\n",
      "      dtype='object', name='date', length=15417)\n",
      "df_ads index: DatetimeIndex(['1960-03-01', '1960-03-02', '1960-03-03', '1960-03-04',\n",
      "               '1960-03-05', '1960-03-06', '1960-03-07', '1960-03-08',\n",
      "               '1960-03-09', '1960-03-10',\n",
      "               ...\n",
      "               '2024-11-07', '2024-11-08', '2024-11-09', '2024-11-10',\n",
      "               '2024-11-11', '2024-11-12', '2024-11-13', '2024-11-14',\n",
      "               '2024-11-15', '2024-11-16'],\n",
      "              dtype='datetime64[ns]', name='date', length=23637, freq=None)\n",
      "df_fred index: DatetimeIndex(['2017-01-03', '2017-01-04', '2017-01-05', '2017-01-06',\n",
      "               '2017-01-09', '2017-01-10', '2017-01-11', '2017-01-12',\n",
      "               '2017-01-13', '2017-01-16',\n",
      "               ...\n",
      "               '2024-11-04', '2024-11-05', '2024-11-06', '2024-11-07',\n",
      "               '2024-11-08', '2024-11-11', '2024-11-12', '2024-11-13',\n",
      "               '2024-11-14', '2024-11-15'],\n",
      "              dtype='datetime64[ns]', length=2054, freq=None)\n"
     ]
    }
   ],
   "source": [
    "print(\"df_ffs index:\", df_ffs.index)\n",
    "print(\"df_ads index:\", df_ads.index)\n",
    "print(\"df_fred index:\", df_fred.index)"
   ]
  },
  {
   "cell_type": "code",
   "execution_count": null,
   "id": "6728e36e-bb36-4162-8dce-1045825f3bcd",
   "metadata": {},
   "outputs": [],
   "source": [
    "start_date = datetime(2020, 1, 1)\n",
    "end_date = datetime(2023, 12, 31)\n",
    "\n",
    "df_ffs.index = pd.to_datetime(df_ffs.index)\n",
    "\n",
    "mask = (df_ffs.index >= start_date) & (df_ffs.index <= end_date)\n",
    "df_ffs = df_ffs.loc[mask]\n",
    "\n",
    "DATA_part1 = pd.merge(df_ffs, df_ads, left_index=True, right_index=True)\n",
    "DATA = pd.merge(DATA_part1, df_fred, left_index=True, right_index=True)\n",
    "DATA.reset_index(inplace=True)\n",
    "DATA = DATA.rename(columns={\"index\": \"Date\"})\n",
    "\n",
    "DATA.to_csv(\"INFO6105_FeatureMart.csv\", index=True)"
   ]
  }
 ],
 "metadata": {
  "kernelspec": {
   "display_name": "Python 3 (ipykernel)",
   "language": "python",
   "name": "python3"
  },
  "language_info": {
   "codemirror_mode": {
    "name": "ipython",
    "version": 3
   },
   "file_extension": ".py",
   "mimetype": "text/x-python",
   "name": "python",
   "nbconvert_exporter": "python",
   "pygments_lexer": "ipython3",
   "version": "3.11.5"
  }
 },
 "nbformat": 4,
 "nbformat_minor": 5
}
