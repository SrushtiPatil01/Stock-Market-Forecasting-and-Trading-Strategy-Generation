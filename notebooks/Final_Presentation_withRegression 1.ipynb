{
 "cells": [
  {
   "cell_type": "code",
   "execution_count": 1,
   "id": "dcbadd56-9624-41dd-ab16-09be78549fc8",
   "metadata": {
    "tags": []
   },
   "outputs": [
    {
     "name": "stdout",
     "output_type": "stream",
     "text": [
      "Requirement already satisfied: fredapi in /Users/natnichalerd/anaconda3/lib/python3.11/site-packages (0.5.2)\n",
      "Requirement already satisfied: pandas in /Users/natnichalerd/anaconda3/lib/python3.11/site-packages (from fredapi) (2.0.3)\n",
      "Requirement already satisfied: python-dateutil>=2.8.2 in /Users/natnichalerd/anaconda3/lib/python3.11/site-packages (from pandas->fredapi) (2.8.2)\n",
      "Requirement already satisfied: pytz>=2020.1 in /Users/natnichalerd/anaconda3/lib/python3.11/site-packages (from pandas->fredapi) (2023.3.post1)\n",
      "Requirement already satisfied: tzdata>=2022.1 in /Users/natnichalerd/anaconda3/lib/python3.11/site-packages (from pandas->fredapi) (2023.3)\n",
      "Requirement already satisfied: numpy>=1.21.0 in /Users/natnichalerd/anaconda3/lib/python3.11/site-packages (from pandas->fredapi) (1.24.3)\n",
      "Requirement already satisfied: six>=1.5 in /Users/natnichalerd/anaconda3/lib/python3.11/site-packages (from python-dateutil>=2.8.2->pandas->fredapi) (1.16.0)\n",
      "Note: you may need to restart the kernel to use updated packages.\n"
     ]
    }
   ],
   "source": [
    "pip install fredapi"
   ]
  },
  {
   "cell_type": "code",
   "execution_count": null,
   "id": "5c9a20b0-475b-4c66-92f5-2ab3375699c6",
   "metadata": {
    "tags": []
   },
   "outputs": [],
   "source": []
  },
  {
   "cell_type": "code",
   "execution_count": 2,
   "id": "55c2ee7c-2b66-4792-a3e2-c41646da8261",
   "metadata": {
    "tags": []
   },
   "outputs": [],
   "source": [
    "# Kernel density visualization of logged returns"
   ]
  },
  {
   "cell_type": "code",
   "execution_count": 3,
   "id": "a1e69860-7cd0-4f84-b1a3-a9a8040a5472",
   "metadata": {
    "tags": []
   },
   "outputs": [],
   "source": [
    "# imports\n",
    "import yfinance as yf\n",
    "import numpy as np\n",
    "from scipy.optimize import minimize\n",
    "import matplotlib.pyplot as plt\n",
    "import pandas as pd\n",
    "import pandas_datareader as DataReader\n",
    "import seaborn as sns\n",
    "from datetime import datetime\n",
    "from fredapi import Fred\n",
    "import scipy.stats as ss\n",
    "from sklearn import linear_model\n",
    "import statsmodels.api as sm"
   ]
  },
  {
   "cell_type": "code",
   "execution_count": 4,
   "id": "1884c31e-7b1a-4f80-baeb-497db890ac2e",
   "metadata": {
    "tags": []
   },
   "outputs": [
    {
     "name": "stderr",
     "output_type": "stream",
     "text": [
      "[*********************100%***********************]  1 of 1 completed"
     ]
    },
    {
     "name": "stdout",
     "output_type": "stream",
     "text": [
      "                  Open        High         Low       Close   Adj Close  \\\n",
      "Date                                                                     \n",
      "2020-01-02  206.750000  209.789993  206.270004  209.779999  209.150269   \n",
      "2020-01-03  207.210007  210.399994  206.949997  208.669998  208.043610   \n",
      "2020-01-06  206.699997  212.779999  206.520004  212.600006  211.961823   \n",
      "2020-01-07  212.820007  214.580002  211.750000  213.059998  212.420425   \n",
      "2020-01-08  213.000000  216.240005  212.610001  215.220001  214.573944   \n",
      "...                ...         ...         ...         ...         ...   \n",
      "2024-08-26  527.599976  528.000000  514.950012  521.119995  520.623352   \n",
      "2024-08-27  518.979980  524.010010  515.309998  519.099976  518.605225   \n",
      "2024-08-28  517.669983  521.090027  512.450012  516.780029  516.287476   \n",
      "2024-08-29  519.049988  527.200012  515.679993  518.219971  517.726074   \n",
      "2024-08-30  521.349976  523.539978  515.200012  521.309998  520.813171   \n",
      "\n",
      "              Volume  \n",
      "Date                  \n",
      "2020-01-02  12077100  \n",
      "2020-01-03  11188400  \n",
      "2020-01-06  17058900  \n",
      "2020-01-07  14912400  \n",
      "2020-01-08  13475000  \n",
      "...              ...  \n",
      "2024-08-26   9584000  \n",
      "2024-08-27   6282700  \n",
      "2024-08-28   9106100  \n",
      "2024-08-29   8317400  \n",
      "2024-08-30   9157500  \n",
      "\n",
      "[1174 rows x 6 columns]\n"
     ]
    },
    {
     "name": "stderr",
     "output_type": "stream",
     "text": [
      "\n"
     ]
    }
   ],
   "source": [
    "# META\n",
    "# Define the stock symbol and the time period\n",
    "ticker_symbol = 'META'  # META\n",
    "start_date = '2020-01-01'  # Start date (YYYY-MM-DD)\n",
    "end_date = '2024-08-31'    # End date (YYYY-MM-DD)\n",
    "\n",
    "# Fetch the stock data\n",
    "stock_data = yf.download(ticker_symbol, start=start_date, end=end_date)\n",
    "\n",
    "# Display the data\n",
    "print(stock_data)"
   ]
  },
  {
   "cell_type": "code",
   "execution_count": 5,
   "id": "fabf6c47-d411-4624-9b94-d1f522c53996",
   "metadata": {
    "tags": []
   },
   "outputs": [
    {
     "name": "stdout",
     "output_type": "stream",
     "text": [
      "Requirement already satisfied: ta in /Users/natnichalerd/anaconda3/lib/python3.11/site-packages (0.11.0)\n",
      "Requirement already satisfied: pykalman in /Users/natnichalerd/anaconda3/lib/python3.11/site-packages (0.9.7)\n",
      "Requirement already satisfied: numpy in /Users/natnichalerd/anaconda3/lib/python3.11/site-packages (from ta) (1.24.3)\n",
      "Requirement already satisfied: pandas in /Users/natnichalerd/anaconda3/lib/python3.11/site-packages (from ta) (2.0.3)\n",
      "Requirement already satisfied: scipy in /Users/natnichalerd/anaconda3/lib/python3.11/site-packages (from pykalman) (1.11.1)\n",
      "Requirement already satisfied: python-dateutil>=2.8.2 in /Users/natnichalerd/anaconda3/lib/python3.11/site-packages (from pandas->ta) (2.8.2)\n",
      "Requirement already satisfied: pytz>=2020.1 in /Users/natnichalerd/anaconda3/lib/python3.11/site-packages (from pandas->ta) (2023.3.post1)\n",
      "Requirement already satisfied: tzdata>=2022.1 in /Users/natnichalerd/anaconda3/lib/python3.11/site-packages (from pandas->ta) (2023.3)\n",
      "Requirement already satisfied: six>=1.5 in /Users/natnichalerd/anaconda3/lib/python3.11/site-packages (from python-dateutil>=2.8.2->pandas->ta) (1.16.0)\n",
      "Note: you may need to restart the kernel to use updated packages.\n"
     ]
    }
   ],
   "source": [
    "pip install ta pykalman"
   ]
  },
  {
   "cell_type": "code",
   "execution_count": 6,
   "id": "3483308e-1967-46c4-95e2-0ca25f4631e4",
   "metadata": {
    "tags": []
   },
   "outputs": [
    {
     "name": "stderr",
     "output_type": "stream",
     "text": [
      "[*********************100%***********************]  1 of 1 completed\n"
     ]
    },
    {
     "name": "stdout",
     "output_type": "stream",
     "text": [
      "Technical indicators added and dataset saved as 'META_with_technical_indicators.csv'.\n"
     ]
    }
   ],
   "source": [
    "import pandas as pd\n",
    "import numpy as np\n",
    "import yfinance as yf\n",
    "from ta.momentum import RSIIndicator\n",
    "from ta.volatility import BollingerBands\n",
    "from ta.trend import SMAIndicator\n",
    "from ta.volume import OnBalanceVolumeIndicator\n",
    "from pykalman import KalmanFilter\n",
    "\n",
    "# Define the stock symbol and the time period\n",
    "ticker_symbol = 'META'  # META\n",
    "start_date = '2019-01-01'  # Start date (YYYY-MM-DD)\n",
    "end_date = '2024-08-31'    # End date (YYYY-MM-DD)\n",
    "\n",
    "# Fetch the stock data\n",
    "stock_data = yf.download(ticker_symbol, start=start_date, end=end_date)\n",
    "\n",
    "# Ensure the dataset is not empty\n",
    "if stock_data.empty:\n",
    "    raise ValueError(\"No data fetched. Please check the ticker symbol and date range.\")\n",
    "\n",
    "# Calculate RSI\n",
    "stock_data['RSI'] = RSIIndicator(close=stock_data['Close'], window=14).rsi()\n",
    "\n",
    "# Calculate Bollinger Band-based Volatility\n",
    "bb_indicator = BollingerBands(close=stock_data['Close'], window=20, window_dev=2)\n",
    "stock_data['Volatility'] = bb_indicator.bollinger_hband() - bb_indicator.bollinger_lband()\n",
    "\n",
    "# Calculate Simple Moving Averages (SMA20 and SMA50)\n",
    "stock_data['SMA20'] = SMAIndicator(close=stock_data['Close'], window=20).sma_indicator()\n",
    "stock_data['SMA50'] = SMAIndicator(close=stock_data['Close'], window=50).sma_indicator()\n",
    "\n",
    "# Calculate On-Balance Volume (OBV)\n",
    "stock_data['OBV'] = OnBalanceVolumeIndicator(close=stock_data['Close'], volume=stock_data['Volume']).on_balance_volume()\n",
    "\n",
    "# Function to apply Kalman Filter\n",
    "def apply_kalman_filter(data):\n",
    "    kf = KalmanFilter(initial_state_mean=0, n_dim_obs=1)\n",
    "    kf = kf.em(data.values.reshape(-1, 1), n_iter=10)\n",
    "    state_means, _ = kf.filter(data.values.reshape(-1, 1))\n",
    "    return state_means.flatten()\n",
    "\n",
    "# Apply Kalman Filter to the 'Close' column\n",
    "stock_data['Kalman'] = apply_kalman_filter(stock_data['Close'])\n",
    "\n",
    "# Calculate log returns\n",
    "stock_data['log_return'] = np.log(stock_data['Close'] / stock_data['Close'].shift(1))\n",
    "\n",
    "# Fill any NaN values generated in the calculations\n",
    "stock_data.fillna(method='ffill', inplace=True)\n",
    "stock_data.dropna(inplace=True)\n",
    "\n",
    "# Save the resulting dataset as a CSV file\n",
    "output_file = 'META_with_technical_indicators.csv'\n",
    "stock_data.to_csv(output_file)\n",
    "\n",
    "print(f\"Technical indicators added and dataset saved as '{output_file}'.\")\n"
   ]
  },
  {
   "cell_type": "code",
   "execution_count": 7,
   "id": "487e26a4-ae2f-4fe3-9069-b2e8a5a1fa99",
   "metadata": {
    "tags": []
   },
   "outputs": [
    {
     "name": "stderr",
     "output_type": "stream",
     "text": [
      "[*********************100%***********************]  1 of 1 completed"
     ]
    },
    {
     "name": "stdout",
     "output_type": "stream",
     "text": [
      "sample mean (average daily log returns): 0.07777820966233326%\n",
      "sample standard deviation of log returns: 2.928802467044888%\n"
     ]
    },
    {
     "name": "stderr",
     "output_type": "stream",
     "text": [
      "\n"
     ]
    },
    {
     "data": {
      "text/plain": [
       "<matplotlib.legend.Legend at 0x13dc81350>"
      ]
     },
     "execution_count": 7,
     "metadata": {},
     "output_type": "execute_result"
    },
    {
     "data": {
      "text/plain": [
       "<Figure size 1200x600 with 0 Axes>"
      ]
     },
     "metadata": {},
     "output_type": "display_data"
    },
    {
     "data": {
      "image/png": "[encoded data removed]",
      "text/plain": [
       "<Figure size 640x480 with 1 Axes>"
      ]
     },
     "metadata": {},
     "output_type": "display_data"
    }
   ],
   "source": [
    "start_date = datetime(2020,1,1)\n",
    "end_date = datetime(2024,8,31)\n",
    "\n",
    "stock_symbol = \"META\"\n",
    "stocks = yf.download(stock_symbol,start_date ,end_date)\n",
    "\n",
    "# Calculate log returns from Adjusted Close\n",
    "stocks['Log Returns'] = np.log(stocks['Adj Close'] / stocks['Adj Close'].shift(1))\n",
    "X = stocks['Log Returns'].dropna()  # Drop NaN values\n",
    "mu = np.mean(X) * 100\n",
    "se = np.std(X) * 100\n",
    "print(f\"sample mean (average daily log returns): {mu}%\")\n",
    "print(f\"sample standard deviation of log returns: {se}%\")\n",
    "\n",
    "# Given parameters\n",
    "mu_1 = 0.0005\n",
    "sigma1 = 0.022\n",
    "T = 2000\n",
    "\n",
    "# Generate the data for r\n",
    "r = mu_1 + sigma1 * np.random.normal(0, 1, T)\n",
    "\n",
    "# Plotting the histogram of r\n",
    "plt.figure(figsize=(12,6))\n",
    "fig, ax = plt.subplots()\n",
    "sns.kdeplot(data=X, linewidth=4)\n",
    "plt.hist(r, bins=100, density=True, alpha=0.6, color='green', label=\"Histogram\")\n",
    "plt.xlabel(\"Log returns\")\n",
    "plt.ylabel(\"Density\")\n",
    "plt.xlim(-0.35, 0.35)\n",
    "ax.legend([f'Empirical Kernal Distribution: {stock_symbol}', 'Mixture Model Simulated Distribution'])"
   ]
  },
  {
   "cell_type": "code",
   "execution_count": 8,
   "id": "ffa5fd60-bd32-4809-8a66-2f99990546ec",
   "metadata": {},
   "outputs": [
    {
     "name": "stderr",
     "output_type": "stream",
     "text": [
      "[*********************100%***********************]  1 of 1 completed"
     ]
    },
    {
     "name": "stdout",
     "output_type": "stream",
     "text": [
      "                  Open        High         Low       Close   Adj Close  \\\n",
      "Date                                                                     \n",
      "2020-01-02   67.077499   68.406998   67.077499   68.368500   68.201012   \n",
      "2020-01-03   67.392998   68.625000   67.277199   68.032997   67.866325   \n",
      "2020-01-06   67.500000   69.824997   67.500000   69.710503   69.539726   \n",
      "2020-01-07   69.897003   70.149498   69.518997   69.667000   69.496330   \n",
      "2020-01-08   69.603996   70.579002   69.542000   70.216003   70.043991   \n",
      "...                ...         ...         ...         ...         ...   \n",
      "2024-08-26  168.154999  169.380005  166.320007  167.929993  167.709229   \n",
      "2024-08-27  167.610001  168.244995  166.160004  166.380005  166.161270   \n",
      "2024-08-28  166.779999  167.389999  163.279999  164.500000  164.283737   \n",
      "2024-08-29  166.059998  167.630005  161.981995  163.399994  163.185181   \n",
      "2024-08-30  164.220001  165.279999  163.410004  165.110001  164.892944   \n",
      "\n",
      "              Volume  \n",
      "Date                  \n",
      "2020-01-02  28132000  \n",
      "2020-01-03  23728000  \n",
      "2020-01-06  34646000  \n",
      "2020-01-07  30054000  \n",
      "2020-01-08  30560000  \n",
      "...              ...  \n",
      "2024-08-26  11990300  \n",
      "2024-08-27  13718200  \n",
      "2024-08-28  15208700  \n",
      "2024-08-29  17133800  \n",
      "2024-08-30  18498800  \n",
      "\n",
      "[1174 rows x 6 columns]\n"
     ]
    },
    {
     "name": "stderr",
     "output_type": "stream",
     "text": [
      "\n"
     ]
    }
   ],
   "source": [
    "# Google\n",
    "# Define the stock symbol and the time period\n",
    "ticker_symbol = 'GOOG'  # GOOGLE\n",
    "start_date = '2020-01-01'  # Start date (YYYY-MM-DD)\n",
    "end_date = '2024-08-31'    # End date (YYYY-MM-DD)\n",
    "\n",
    "# Fetch the stock data\n",
    "stock_data = yf.download(ticker_symbol, start=start_date, end=end_date)\n",
    "\n",
    "# Display the data\n",
    "print(stock_data)"
   ]
  },
  {
   "cell_type": "code",
   "execution_count": 9,
   "id": "271d40c2-4754-4f09-95c9-3d69bbcc5eec",
   "metadata": {},
   "outputs": [
    {
     "name": "stderr",
     "output_type": "stream",
     "text": [
      "[*********************100%***********************]  1 of 1 completed"
     ]
    },
    {
     "name": "stdout",
     "output_type": "stream",
     "text": [
      "sample mean (average daily log returns): 0.07526317499468818%\n",
      "sample standard deviation of log returns: 2.059599009134563%\n"
     ]
    },
    {
     "name": "stderr",
     "output_type": "stream",
     "text": [
      "\n"
     ]
    },
    {
     "data": {
      "text/plain": [
       "<matplotlib.legend.Legend at 0x13ddbc150>"
      ]
     },
     "execution_count": 9,
     "metadata": {},
     "output_type": "execute_result"
    },
    {
     "data": {
      "text/plain": [
       "<Figure size 1200x600 with 0 Axes>"
      ]
     },
     "metadata": {},
     "output_type": "display_data"
    },
    {
     "data": {
      "image/png": "[encoded data removed]",
      "text/plain": [
       "<Figure size 640x480 with 1 Axes>"
      ]
     },
     "metadata": {},
     "output_type": "display_data"
    }
   ],
   "source": [
    "start_date = datetime(2020,1,1)\n",
    "end_date = datetime(2024,8,31)\n",
    "\n",
    "stock_symbol = \"GOOG\"\n",
    "stocks = yf.download(stock_symbol,start_date ,end_date)\n",
    "\n",
    "# Calculate log returns from Adjusted Close\n",
    "stocks['Log Returns'] = np.log(stocks['Adj Close'] / stocks['Adj Close'].shift(1))\n",
    "X = stocks['Log Returns'].dropna()  # Drop NaN values\n",
    "mu = np.mean(X) * 100\n",
    "se = np.std(X) * 100\n",
    "print(f\"sample mean (average daily log returns): {mu}%\")\n",
    "print(f\"sample standard deviation of log returns: {se}%\")\n",
    "\n",
    "# Given parameters\n",
    "mu_1 = 0.00035\n",
    "sigma1 = 0.016\n",
    "T = 2000\n",
    "\n",
    "# Generate the data for r\n",
    "r = mu_1 + sigma1 * np.random.normal(0, 1, T)\n",
    "\n",
    "# Plotting the histogram of r\n",
    "plt.figure(figsize=(12,6))\n",
    "fig, ax = plt.subplots()\n",
    "sns.kdeplot(data=X, linewidth=4)\n",
    "plt.hist(r, bins=100, density=True, alpha=0.6, color='green', label=\"Histogram\")\n",
    "plt.xlabel(\"Log returns\")\n",
    "plt.ylabel(\"Density\")\n",
    "plt.xlim(-0.2, 0.2)\n",
    "ax.legend([f'Empirical Kernal Distribution: {stock_symbol}', 'Mixture Model Simulated Distribution'])"
   ]
  },
  {
   "cell_type": "code",
   "execution_count": 10,
   "id": "cad0d16e-ae04-4d59-995d-4b8e23b47f61",
   "metadata": {},
   "outputs": [
    {
     "name": "stderr",
     "output_type": "stream",
     "text": [
      "[*********************100%***********************]  1 of 1 completed"
     ]
    },
    {
     "name": "stdout",
     "output_type": "stream",
     "text": [
      "                 Open       High        Low      Close  Adj Close    Volume\n",
      "Date                                                                       \n",
      "2020-01-02  16.620001  16.950001  16.459999  16.780001  16.780001  26062600\n",
      "2020-01-03  16.430000  17.100000  16.350000  16.750000  16.750000  19761500\n",
      "2020-01-06  16.650000  16.790001  16.410000  16.780001  16.780001  15952600\n",
      "2020-01-07  16.870001  17.065001  16.549999  17.030001  17.030001  21146400\n",
      "2020-01-08  16.980000  17.010000  16.650000  16.670000  16.670000  15600900\n",
      "...               ...        ...        ...        ...        ...       ...\n",
      "2024-08-26   9.400000   9.620000   9.384000   9.420000   9.420000  21843400\n",
      "2024-08-27   9.280000   9.570000   9.280000   9.500000   9.500000  17453900\n",
      "2024-08-28   9.380000   9.440000   9.130000   9.180000   9.180000  17945100\n",
      "2024-08-29   9.290000   9.440000   9.160000   9.220000   9.220000  19312600\n",
      "2024-08-30   9.340000   9.420000   9.180000   9.340000   9.340000  17230600\n",
      "\n",
      "[1174 rows x 6 columns]\n"
     ]
    },
    {
     "name": "stderr",
     "output_type": "stream",
     "text": [
      "\n"
     ]
    }
   ],
   "source": [
    "# SNAP\n",
    "# Define the stock symbol and the time period\n",
    "ticker_symbol = 'SNAP'  # SNAP\n",
    "start_date = '2020-01-01'  # Start date (YYYY-MM-DD)\n",
    "end_date = '2024-08-31'    # End date (YYYY-MM-DD)\n",
    "\n",
    "# Fetch the stock data\n",
    "stock_data = yf.download(ticker_symbol, start=start_date, end=end_date)\n",
    "\n",
    "# Display the data\n",
    "print(stock_data)"
   ]
  },
  {
   "cell_type": "code",
   "execution_count": 11,
   "id": "bf9ad36f-43a5-45d6-978e-a21559f2c570",
   "metadata": {},
   "outputs": [
    {
     "name": "stderr",
     "output_type": "stream",
     "text": [
      "[*********************100%***********************]  1 of 1 completed"
     ]
    },
    {
     "name": "stdout",
     "output_type": "stream",
     "text": [
      "sample mean (average daily log returns): -0.04994726968301328%\n",
      "sample standard deviation of log returns: 5.255023402517026%\n"
     ]
    },
    {
     "name": "stderr",
     "output_type": "stream",
     "text": [
      "\n"
     ]
    },
    {
     "data": {
      "text/plain": [
       "<matplotlib.legend.Legend at 0x13de9b4d0>"
      ]
     },
     "execution_count": 11,
     "metadata": {},
     "output_type": "execute_result"
    },
    {
     "data": {
      "text/plain": [
       "<Figure size 1200x600 with 0 Axes>"
      ]
     },
     "metadata": {},
     "output_type": "display_data"
    },
    {
     "data": {
      "image/png": "[encoded data removed]",
      "text/plain": [
       "<Figure size 640x480 with 1 Axes>"
      ]
     },
     "metadata": {},
     "output_type": "display_data"
    }
   ],
   "source": [
    "start_date = datetime(2020,1,1)\n",
    "end_date = datetime(2024,8,31)\n",
    "\n",
    "stock_symbol = \"SNAP\"\n",
    "stocks = yf.download(stock_symbol,start_date ,end_date)\n",
    "\n",
    "# Calculate log returns from Adjusted Close\n",
    "stocks['Log Returns'] = np.log(stocks['Adj Close'] / stocks['Adj Close'].shift(1))\n",
    "X = stocks['Log Returns'].dropna()  # Drop NaN values\n",
    "mu = np.mean(X) * 100\n",
    "se = np.std(X) * 100\n",
    "print(f\"sample mean (average daily log returns): {mu}%\")\n",
    "print(f\"sample standard deviation of log returns: {se}%\")\n",
    "\n",
    "# Given parameters\n",
    "mu_1 = 0.0001\n",
    "sigma1 = 0.036\n",
    "T = 2000\n",
    "\n",
    "# Generate the data for r\n",
    "r = mu_1 + sigma1 * np.random.normal(0, 1, T)\n",
    "\n",
    "# Plotting the histogram of r\n",
    "plt.figure(figsize=(12,6))\n",
    "fig, ax = plt.subplots()\n",
    "sns.kdeplot(data=X, linewidth=4)\n",
    "plt.hist(r, bins=100, density=True, alpha=0.6, color='green', label=\"Histogram\")\n",
    "plt.xlabel(\"Log returns\")\n",
    "plt.ylabel(\"Density\")\n",
    "plt.xlim(-0.3, 0.3)\n",
    "ax.legend([f'Empirical Kernal Distribution: {stock_symbol}', 'Mixture Model Simulated Distribution'])"
   ]
  },
  {
   "cell_type": "code",
   "execution_count": 12,
   "id": "f0beea78-f13a-423f-a84f-5f3996d2dfb4",
   "metadata": {},
   "outputs": [
    {
     "name": "stderr",
     "output_type": "stream",
     "text": [
      "[*********************100%***********************]  1 of 1 completed"
     ]
    },
    {
     "name": "stdout",
     "output_type": "stream",
     "text": [
      "                  Open        High         Low       Close   Adj Close  \\\n",
      "Date                                                                     \n",
      "2020-01-02   74.059998   75.150002   73.797501   75.087502   72.796028   \n",
      "2020-01-03   74.287498   75.144997   74.125000   74.357498   72.088303   \n",
      "2020-01-06   73.447502   74.989998   73.187500   74.949997   72.662720   \n",
      "2020-01-07   74.959999   75.224998   74.370003   74.597504   72.320961   \n",
      "2020-01-08   74.290001   76.110001   74.290001   75.797501   73.484360   \n",
      "...                ...         ...         ...         ...         ...   \n",
      "2024-08-26  226.759995  227.279999  223.889999  227.179993  226.930328   \n",
      "2024-08-27  226.000000  228.850006  224.889999  228.029999  227.779388   \n",
      "2024-08-28  227.919998  229.860001  225.679993  226.490005  226.241089   \n",
      "2024-08-29  230.100006  232.919998  228.880005  229.789993  229.537460   \n",
      "2024-08-30  230.190002  230.399994  227.479996  229.000000  228.748337   \n",
      "\n",
      "               Volume  \n",
      "Date                   \n",
      "2020-01-02  135480400  \n",
      "2020-01-03  146322800  \n",
      "2020-01-06  118387200  \n",
      "2020-01-07  108872000  \n",
      "2020-01-08  132079200  \n",
      "...               ...  \n",
      "2024-08-26   30602200  \n",
      "2024-08-27   35934600  \n",
      "2024-08-28   38052200  \n",
      "2024-08-29   51906300  \n",
      "2024-08-30   52990800  \n",
      "\n",
      "[1174 rows x 6 columns]\n"
     ]
    },
    {
     "name": "stderr",
     "output_type": "stream",
     "text": [
      "\n"
     ]
    }
   ],
   "source": [
    "# APPLE\n",
    "# Define the stock symbol and the time period\n",
    "ticker_symbol = 'AAPL'  # APPLE\n",
    "start_date = '2020-01-01'  # Start date (YYYY-MM-DD)\n",
    "end_date = '2024-08-31'    # End date (YYYY-MM-DD)\n",
    "\n",
    "# Fetch the stock data\n",
    "stock_data = yf.download(ticker_symbol, start=start_date, end=end_date)\n",
    "\n",
    "# Display the data\n",
    "print(stock_data)"
   ]
  },
  {
   "cell_type": "code",
   "execution_count": 13,
   "id": "a5f0ff9e-febb-434a-8b47-7fa27bead606",
   "metadata": {},
   "outputs": [
    {
     "name": "stderr",
     "output_type": "stream",
     "text": [
      "[*********************100%***********************]  1 of 1 completed"
     ]
    },
    {
     "name": "stdout",
     "output_type": "stream",
     "text": [
      "sample mean (average daily log returns): 0.09760963666795398%\n",
      "sample standard deviation of log returns: 2.0383176458242005%\n"
     ]
    },
    {
     "name": "stderr",
     "output_type": "stream",
     "text": [
      "\n"
     ]
    },
    {
     "data": {
      "text/plain": [
       "<matplotlib.legend.Legend at 0x13e051210>"
      ]
     },
     "execution_count": 13,
     "metadata": {},
     "output_type": "execute_result"
    },
    {
     "data": {
      "text/plain": [
       "<Figure size 1200x600 with 0 Axes>"
      ]
     },
     "metadata": {},
     "output_type": "display_data"
    },
    {
     "data": {
      "image/png": "[encoded data removed]",
      "text/plain": [
       "<Figure size 640x480 with 1 Axes>"
      ]
     },
     "metadata": {},
     "output_type": "display_data"
    }
   ],
   "source": [
    "start_date = datetime(2020,1,1)\n",
    "end_date = datetime(2024,8,31)\n",
    "\n",
    "stock_symbol = \"AAPL\"\n",
    "stocks = yf.download(stock_symbol,start_date ,end_date)\n",
    "\n",
    "# Calculate log returns from Adjusted Close\n",
    "stocks['Log Returns'] = np.log(stocks['Adj Close'] / stocks['Adj Close'].shift(1))\n",
    "X = stocks['Log Returns'].dropna()  # Drop NaN values\n",
    "mu = np.mean(X) * 100\n",
    "se = np.std(X) * 100\n",
    "print(f\"sample mean (average daily log returns): {mu}%\")\n",
    "print(f\"sample standard deviation of log returns: {se}%\")\n",
    "\n",
    "# Given parameters\n",
    "mu_1 = 0.00015\n",
    "sigma1 = 0.016\n",
    "T = 2000\n",
    "\n",
    "# Generate the data for r\n",
    "r = mu_1 + sigma1 * np.random.normal(0, 1, T)\n",
    "\n",
    "# Plotting the histogram of r\n",
    "plt.figure(figsize=(12,6))\n",
    "fig, ax = plt.subplots()\n",
    "sns.kdeplot(data=X, linewidth=4)\n",
    "plt.hist(r, bins=100, density=True, alpha=0.6, color='green', label=\"Histogram\")\n",
    "plt.xlabel(\"Log returns\")\n",
    "plt.ylabel(\"Density\")\n",
    "plt.xlim(-0.2, 0.2)\n",
    "ax.legend([f'Empirical Kernal Distribution: {stock_symbol}', 'Mixture Model Simulated Distribution'])"
   ]
  },
  {
   "cell_type": "code",
   "execution_count": 14,
   "id": "054bd3a7-2f25-463c-9929-cc401662789e",
   "metadata": {},
   "outputs": [
    {
     "name": "stdout",
     "output_type": "stream",
     "text": [
      "            Mkt-RF   SMB   HML   RMW   CMA     RF\n",
      "date                                             \n",
      "1963-07-01   -0.67  0.02 -0.35  0.03  0.13  0.012\n",
      "1963-07-02    0.79 -0.28  0.28 -0.08 -0.21  0.012\n",
      "1963-07-03    0.63 -0.18 -0.10  0.13 -0.25  0.012\n",
      "1963-07-05    0.40  0.09 -0.28  0.07 -0.30  0.012\n",
      "1963-07-08   -0.63  0.07 -0.20 -0.27  0.06  0.012\n",
      "(15417, 6)\n"
     ]
    }
   ],
   "source": [
    "# 1. FAMA-FRENCH 5 FACTORS\n",
    "# Get the Fama French 5 factor model (monthly data)\n",
    "column_names=['date', 'Mkt-RF', 'SMB', 'HML', 'RMW', 'CMA', 'RF']\n",
    "data_ff5 = pd.read_csv(\n",
    "    'F-F_Research_Data_5_Factors_2x3_daily.csv',\n",
    "    usecols=range(7),  # Only read the first 7 columns\n",
    "    names=column_names,\n",
    "    header=None,\n",
    "    skiprows=4)\n",
    "data_ff5['date'] = data_ff5['date'].astype(str).str[0:4]+'-'\\\n",
    "                    +data_ff5['date'].astype(str).str[4:6]+'-'\\\n",
    "                    +data_ff5['date'].astype(str).str[6:8]\n",
    "                    \n",
    "data_ff5['date'] = pd.to_datetime(data_ff5['date'], format='%Y-%m-%d')\n",
    "data_ff5['date'] = data_ff5['date'].dt.date\n",
    "df_ffs = data_ff5.set_index('date')\n",
    "\n",
    "print(df_ffs.head())\n",
    "print(df_ffs.shape)"
   ]
  },
  {
   "cell_type": "code",
   "execution_count": 15,
   "id": "20917558-e6b6-495a-b5d1-cbf54064df02",
   "metadata": {},
   "outputs": [],
   "source": [
    "# 2. ADS INDEX\n",
    "data_ads = pd.read_excel('ADS_Index_Most_Current_Vintage.xlsx')\n",
    "# manually replace : into -\n",
    "df_ads = data_ads.set_index('date')\n",
    "df_ads.index = pd.to_datetime(df_ads.index, format='%Y:%m:%d')"
   ]
  },
  {
   "cell_type": "code",
   "execution_count": 16,
   "id": "b6c9e51a-fd78-4e00-8edd-dc01184b5ac8",
   "metadata": {},
   "outputs": [],
   "source": [
    "# 3. FRED DATA\n",
    "fred = Fred(api_key='54dfdd8235a4e8e857eb4e5e4e77aed4')\n",
    "varList = ['T10Y3M', 'DGS10', 'OBMMIJUMBO30YF',  # term premium 10yr-3mon, 30 yr mortgage jumbo loan\n",
    "           'DEXUSEU', 'DEXJPUS', 'DEXUSUK', # spot exchange rates to EUR, JPY, GBP \n",
    "           'CBBTCUSD', 'CBETHUSD',  # cryptocurrencies\n",
    "               'T10YIE', 'DCOILBRENTEU', # breakeven inflation + brent oil price \n",
    "               'VIXCLS', # implied volatilities\n",
    "               'DAAA', 'DBAA', # corporate bond yield\n",
    "              'AMERIBOR', 'T5YIE', 'BAMLH0A0HYM2','BAMLH0A0HYM2EY', 'DGS1', 'DCOILWTICO', \n",
    "                              'DHHNGSP', 'EMVELECTGOVRN', 'ECIWAG'] \n",
    "\n",
    "SP500 = fred.get_series('SP500')\n",
    "SP500.name = 'SP500'\n",
    "df_fred = SP500\n",
    "\n",
    "# merge data series\n",
    "for i in range(0, len(varList)):\n",
    "    data = fred.get_series(varList[i])\n",
    "    data.name = varList[i]\n",
    "    df_fred = pd.merge(df_fred, data, left_index=True, right_index=True, how='outer')"
   ]
  },
  {
   "cell_type": "code",
   "execution_count": 17,
   "id": "7d2b0c04-b08f-458b-92dc-1276bdafd940",
   "metadata": {
    "tags": []
   },
   "outputs": [
    {
     "name": "stdout",
     "output_type": "stream",
     "text": [
      "df_ffs index: Index([1963-07-01, 1963-07-02, 1963-07-03, 1963-07-05, 1963-07-08, 1963-07-09,\n",
      "       1963-07-10, 1963-07-11, 1963-07-12, 1963-07-15,\n",
      "       ...\n",
      "       2024-09-17, 2024-09-18, 2024-09-19, 2024-09-20, 2024-09-23, 2024-09-24,\n",
      "       2024-09-25, 2024-09-26, 2024-09-27, 2024-09-30],\n",
      "      dtype='object', name='date', length=15417)\n",
      "df_ads index: DatetimeIndex(['1960-03-01', '1960-03-02', '1960-03-03', '1960-03-04',\n",
      "               '1960-03-05', '1960-03-06', '1960-03-07', '1960-03-08',\n",
      "               '1960-03-09', '1960-03-10',\n",
      "               ...\n",
      "               '2024-11-07', '2024-11-08', '2024-11-09', '2024-11-10',\n",
      "               '2024-11-11', '2024-11-12', '2024-11-13', '2024-11-14',\n",
      "               '2024-11-15', '2024-11-16'],\n",
      "              dtype='datetime64[ns]', name='date', length=23637, freq=None)\n",
      "df_fred index: DatetimeIndex(['1962-01-02', '1962-01-03', '1962-01-04', '1962-01-05',\n",
      "               '1962-01-08', '1962-01-09', '1962-01-10', '1962-01-11',\n",
      "               '1962-01-12', '1962-01-15',\n",
      "               ...\n",
      "               '2024-11-28', '2024-11-29', '2024-11-30', '2024-12-01',\n",
      "               '2024-12-02', '2024-12-03', '2024-12-04', '2024-12-05',\n",
      "               '2024-12-06', '2024-12-07'],\n",
      "              dtype='datetime64[ns]', length=17632, freq=None)\n"
     ]
    }
   ],
   "source": [
    "print(\"df_ffs index:\", df_ffs.index)\n",
    "print(\"df_ads index:\", df_ads.index)\n",
    "print(\"df_fred index:\", df_fred.index)"
   ]
  },
  {
   "cell_type": "code",
   "execution_count": 18,
   "id": "fb42b76b-48fa-4d4a-a8de-2e50cf10ffa0",
   "metadata": {
    "tags": []
   },
   "outputs": [
    {
     "name": "stdout",
     "output_type": "stream",
     "text": [
      "(15417, 6)\n",
      "(23637, 1)\n",
      "(17632, 23)\n"
     ]
    }
   ],
   "source": [
    "print(df_ffs.shape)\n",
    "print(df_ads.shape)\n",
    "print(df_fred.shape)"
   ]
  },
  {
   "cell_type": "code",
   "execution_count": 19,
   "id": "4cc49932-b619-4ce3-93db-8c07afe8cf53",
   "metadata": {
    "tags": []
   },
   "outputs": [
    {
     "name": "stdout",
     "output_type": "stream",
     "text": [
      "1963-07-01\n",
      "2024-09-30\n"
     ]
    }
   ],
   "source": [
    "print(df_ffs.index.min())  # Minimum date in df_ffs\n",
    "print(df_ffs.index.max())  # Maximum date in df_ffs"
   ]
  },
  {
   "cell_type": "code",
   "execution_count": 20,
   "id": "6728e36e-bb36-4162-8dce-1045825f3bcd",
   "metadata": {},
   "outputs": [
    {
     "name": "stdout",
     "output_type": "stream",
     "text": [
      "Index(['Date', 'Mkt-RF', 'SMB', 'HML', 'RMW', 'CMA', 'RF', 'ADS_Index',\n",
      "       'SP500', 'T10Y3M', 'DGS10', 'OBMMIJUMBO30YF', 'DEXUSEU', 'DEXJPUS',\n",
      "       'DEXUSUK', 'CBBTCUSD', 'CBETHUSD', 'T10YIE', 'DCOILBRENTEU', 'VIXCLS',\n",
      "       'DAAA', 'DBAA', 'AMERIBOR', 'T5YIE', 'BAMLH0A0HYM2', 'BAMLH0A0HYM2EY',\n",
      "       'DGS1', 'DCOILWTICO', 'DHHNGSP', 'EMVELECTGOVRN_interp',\n",
      "       'ECIWAG_interp'],\n",
      "      dtype='object')\n"
     ]
    }
   ],
   "source": [
    "start_date = datetime(2019, 1, 1)  # Start date for interpolation using 2019 data\n",
    "end_date = datetime(2024, 8, 31)\n",
    "\n",
    "# Convert index to datetime\n",
    "df_ffs.index = pd.to_datetime(df_ffs.index)\n",
    "\n",
    "# Apply mask for the date range (2019-2024) for interpolation\n",
    "mask = (df_ffs.index >= start_date) & (df_ffs.index <= end_date)\n",
    "df_ffs = df_ffs.loc[mask]\n",
    "\n",
    "# Merge datasets\n",
    "DATA_part1 = pd.merge(df_ffs, df_ads, left_index=True, right_index=True)\n",
    "DATA = pd.merge(DATA_part1, df_fred, left_index=True, right_index=True)\n",
    "\n",
    "# Perform polynomial interpolation for missing values\n",
    "DATA['EMVELECTGOVRN_interp'] = DATA['EMVELECTGOVRN'].interpolate(method='polynomial', order=2)\n",
    "DATA['ECIWAG_interp'] = DATA['ECIWAG'].interpolate(method='polynomial', order=2)\n",
    "\n",
    "# Drop the 'ECIWAG' and 'EMVELECTGOVRN' columns\n",
    "DATA = DATA.drop(['ECIWAG', 'EMVELECTGOVRN'], axis=1)\n",
    "\n",
    "# Reset index and rename to 'Date'\n",
    "DATA.reset_index(inplace=True)\n",
    "DATA = DATA.rename(columns={'index': 'Date'})  # Ensure 'Date' column is correctly renamed\n",
    "\n",
    "print(DATA.columns)  # Check if 'Date' is now a column\n",
    "\n",
    "# Export the modified dataset to CSV\n",
    "DATA.to_csv('INFO6105_FeatureMart_interpolated_2019.csv', index=True)  # Save without the index"
   ]
  },
  {
   "cell_type": "code",
   "execution_count": 21,
   "id": "01247819-7831-4db3-8e1f-5ca8d22650a9",
   "metadata": {
    "tags": []
   },
   "outputs": [
    {
     "name": "stdout",
     "output_type": "stream",
     "text": [
      "Merged dataset with technical indicators saved as 'INFO6105_FeatureMart_with_meta_indicators.csv'.\n"
     ]
    }
   ],
   "source": [
    "import pandas as pd\n",
    "\n",
    "# Step 1: Load the FeatureMart dataset\n",
    "featuremart_data = pd.read_csv('INFO6105_FeatureMart_interpolated_2019.csv', parse_dates=['Date'])\n",
    "featuremart_data.set_index('Date', inplace=True)\n",
    "\n",
    "# Step 2: Load the META stock data with technical indicators\n",
    "meta_data = pd.read_csv('META_with_technical_indicators.csv', parse_dates=['Date'])\n",
    "meta_data.set_index('Date', inplace=True)\n",
    "\n",
    "# Step 3: Merge the two datasets on the 'Date' column\n",
    "# Make sure the date columns are of the same type and use an inner join to merge\n",
    "merged_data = pd.merge(featuremart_data, meta_data[['RSI', 'Volatility', 'SMA20', 'SMA50', 'OBV', 'Kalman', 'log_return']],\n",
    "                       left_index=True, right_index=True, how='inner')\n",
    "\n",
    "# Step 4: Drop the 'Unnamed: 0' column if it exists\n",
    "if 'Unnamed: 0' in merged_data.columns:\n",
    "    merged_data = merged_data.drop(columns=['Unnamed: 0'])\n",
    "\n",
    "# Step 5: Save the merged dataset to a new CSV file\n",
    "merged_data.reset_index(inplace=True)\n",
    "merged_data.to_csv('INFO6105_FeatureMart_with_meta_indicators.csv', index=False)\n",
    "\n",
    "print(\"Merged dataset with technical indicators saved as 'INFO6105_FeatureMart_with_meta_indicators.csv'.\")"
   ]
  },
  {
   "cell_type": "code",
   "execution_count": 22,
   "id": "2f31ca7d-198c-447c-bb8d-6aa4d2df40b2",
   "metadata": {},
   "outputs": [],
   "source": [
    "# Feature Selection"
   ]
  },
  {
   "cell_type": "code",
   "execution_count": 23,
   "id": "ebb88125-db3a-4569-ba1a-9658c06bbb2a",
   "metadata": {
    "tags": []
   },
   "outputs": [
    {
     "name": "stdout",
     "output_type": "stream",
     "text": [
      "        Date  Mkt-RF   SMB   HML   RMW   CMA    RF  ADS_Index    SP500  \\\n",
      "0 2019-01-02    0.23  0.74  1.12 -0.12  0.27  0.01  -0.295432  2510.03   \n",
      "1 2019-01-03   -2.45  0.48  1.20 -0.22  0.90  0.01  -0.307768  2447.89   \n",
      "2 2019-01-04    3.55  0.36 -0.70 -0.11 -0.59  0.01  -0.320480  2531.94   \n",
      "3 2019-01-07    0.94  0.87 -0.75 -0.72 -0.45  0.01  -0.360677  2549.69   \n",
      "4 2019-01-08    1.01  0.44 -0.63  0.31 -0.09  0.01  -0.374455  2574.41   \n",
      "\n",
      "   T10Y3M  ...  DBAA  AMERIBOR  T5YIE  BAMLH0A0HYM2  BAMLH0A0HYM2EY  DGS1  \\\n",
      "0    0.24  ...  5.11  2.557531   1.49          5.35            7.89  2.60   \n",
      "1    0.15  ...  5.04  2.563147   1.49          5.44            7.86  2.50   \n",
      "2    0.25  ...  5.12  2.561707   1.58          5.05            7.58  2.57   \n",
      "3    0.25  ...  5.12  2.567482   1.61          4.83            7.40  2.58   \n",
      "4    0.27  ...  5.12  2.563391   1.66          4.65            7.26  2.60   \n",
      "\n",
      "   DCOILWTICO  DHHNGSP  EMVELECTGOVRN_interp  ECIWAG_interp  \n",
      "0       46.31     3.25                   NaN            NaN  \n",
      "1       46.92     2.72                   NaN            NaN  \n",
      "2       47.76     2.80                   NaN            NaN  \n",
      "3       48.27     2.74                   NaN            NaN  \n",
      "4       49.58     2.89                   NaN            NaN  \n",
      "\n",
      "[5 rows x 31 columns]\n",
      "Index(['Date', 'Mkt-RF', 'SMB', 'HML', 'RMW', 'CMA', 'RF', 'ADS_Index',\n",
      "       'SP500', 'T10Y3M', 'DGS10', 'OBMMIJUMBO30YF', 'DEXUSEU', 'DEXJPUS',\n",
      "       'DEXUSUK', 'CBBTCUSD', 'CBETHUSD', 'T10YIE', 'DCOILBRENTEU', 'VIXCLS',\n",
      "       'DAAA', 'DBAA', 'AMERIBOR', 'T5YIE', 'BAMLH0A0HYM2', 'BAMLH0A0HYM2EY',\n",
      "       'DGS1', 'DCOILWTICO', 'DHHNGSP', 'EMVELECTGOVRN_interp',\n",
      "       'ECIWAG_interp'],\n",
      "      dtype='object')\n"
     ]
    }
   ],
   "source": [
    "print(DATA.head())\n",
    "print(DATA.columns)"
   ]
  },
  {
   "cell_type": "code",
   "execution_count": 24,
   "id": "b51c6789-5421-460b-b775-29ed8ecc1e1c",
   "metadata": {},
   "outputs": [
    {
     "name": "stderr",
     "output_type": "stream",
     "text": [
      "[*********************100%***********************]  1 of 1 completed"
     ]
    },
    {
     "name": "stdout",
     "output_type": "stream",
     "text": [
      "          Date  Mkt-RF   SMB   HML   RMW   CMA     RF  ADS_Index    SP500  \\\n",
      "252 2020-01-02    0.86 -0.97 -0.33  0.24 -0.22  0.006  -0.291513  3257.85   \n",
      "253 2020-01-03   -0.67  0.30  0.00 -0.13 -0.11  0.006  -0.279830  3234.85   \n",
      "254 2020-01-06    0.36 -0.21 -0.55 -0.17 -0.26  0.006  -0.245228  3246.28   \n",
      "255 2020-01-07   -0.19 -0.03 -0.25 -0.13 -0.24  0.006  -0.234188  3237.18   \n",
      "256 2020-01-08    0.47 -0.16 -0.66 -0.16 -0.18  0.006  -0.223434  3253.05   \n",
      "\n",
      "     T10Y3M  ...  DBAA  AMERIBOR  T5YIE  BAMLH0A0HYM2  BAMLH0A0HYM2EY  DGS1  \\\n",
      "252    0.34  ...  3.86  1.603451   1.72          3.56            5.28  1.56   \n",
      "253    0.28  ...  3.79  1.599492   1.69          3.61            5.25  1.55   \n",
      "254    0.25  ...  3.83  1.599941   1.69          3.57            5.23  1.54   \n",
      "255    0.29  ...  3.86  1.597702   1.67          3.54            5.21  1.53   \n",
      "256    0.33  ...  3.92  1.586618   1.68          3.50            5.22  1.55   \n",
      "\n",
      "     DCOILWTICO  DHHNGSP  EMVELECTGOVRN_interp  ECIWAG_interp  \n",
      "252       61.17     2.05              1.564121     139.910283  \n",
      "253       63.00     2.06              1.556173     139.921196  \n",
      "254       63.27     2.10              1.532461     139.953797  \n",
      "255       62.70     2.17              1.524601     139.964618  \n",
      "256       59.65     2.09              1.516763     139.975416  \n",
      "\n",
      "[5 rows x 31 columns]\n",
      "Index(['Date', 'Mkt-RF', 'SMB', 'HML', 'RMW', 'CMA', 'RF', 'ADS_Index',\n",
      "       'SP500', 'T10Y3M', 'DGS10', 'OBMMIJUMBO30YF', 'DEXUSEU', 'DEXJPUS',\n",
      "       'DEXUSUK', 'CBBTCUSD', 'CBETHUSD', 'T10YIE', 'DCOILBRENTEU', 'VIXCLS',\n",
      "       'DAAA', 'DBAA', 'AMERIBOR', 'T5YIE', 'BAMLH0A0HYM2', 'BAMLH0A0HYM2EY',\n",
      "       'DGS1', 'DCOILWTICO', 'DHHNGSP', 'EMVELECTGOVRN_interp',\n",
      "       'ECIWAG_interp'],\n",
      "      dtype='object')\n"
     ]
    },
    {
     "name": "stderr",
     "output_type": "stream",
     "text": [
      "\n"
     ]
    }
   ],
   "source": [
    "# Figure configuration\n",
    "plt.rcParams['figure.figsize'] = (16, 6)\n",
    "\n",
    "# Define dataset\n",
    "start_date = datetime(2020, 1, 1)\n",
    "end_date = datetime(2024, 8, 31)\n",
    "DATA = pd.read_csv('INFO6105_FeatureMart_interpolated_2019.csv', index_col=[0])\n",
    "\n",
    "# Display summary statistics\n",
    "DATA.describe()\n",
    "\n",
    "# Convert the 'Date' column to datetime\n",
    "DATA['Date'] = pd.to_datetime(DATA['Date'])\n",
    "\n",
    "# Filter the data to include only rows where 'Date' is greater than or equal to start_date\n",
    "DATA = DATA[DATA['Date'] >= start_date]\n",
    "\n",
    "# Check the first few rows and column names to confirm the filtering\n",
    "print(DATA.head())\n",
    "print(DATA.columns)\n",
    "\n",
    "# Download stock data for 'META'\n",
    "STOCK = yf.download('META', start_date, end_date)\n",
    "STOCK.describe()\n",
    "\n",
    "# Set 'Date' as index and fill missing values\n",
    "X = DATA.set_index('Date').fillna(method='bfill')\n",
    "\n",
    "# Calculate log returns from Adjusted Close\n",
    "y = STOCK['Log Returns'] = np.log(STOCK['Adj Close'] / STOCK['Adj Close'].shift(1))\n",
    "y = STOCK['Log Returns'].dropna()  # Drop NaN values\n",
    "y = np.append(y[0], y)"
   ]
  },
  {
   "cell_type": "code",
   "execution_count": 25,
   "id": "dd9f121f-837d-4414-a877-42e6e2bff15f",
   "metadata": {},
   "outputs": [
    {
     "name": "stdout",
     "output_type": "stream",
     "text": [
      "(1174, 31)\n",
      "(1174,)\n",
      "                                 OLS Regression Results                                \n",
      "=======================================================================================\n",
      "Dep. Variable:                      y   R-squared (uncentered):                   0.470\n",
      "Model:                            OLS   Adj. R-squared (uncentered):              0.467\n",
      "Method:                 Least Squares   F-statistic:                              172.4\n",
      "Date:                Sun, 08 Dec 2024   Prob (F-statistic):                   5.21e-157\n",
      "Time:                        16:42:22   Log-Likelihood:                          2851.4\n",
      "No. Observations:                1174   AIC:                                     -5691.\n",
      "Df Residuals:                    1168   BIC:                                     -5660.\n",
      "Df Model:                           6                                                  \n",
      "Covariance Type:            nonrobust                                                  \n",
      "==============================================================================\n",
      "                 coef    std err          t      P>|t|      [0.025      0.975]\n",
      "------------------------------------------------------------------------------\n",
      "Mkt-RF         0.0120      0.000     25.317      0.000       0.011       0.013\n",
      "HML           -0.0048      0.001     -6.736      0.000      -0.006      -0.003\n",
      "RMW            0.0036      0.001      3.468      0.001       0.002       0.006\n",
      "CMA           -0.0078      0.001     -5.390      0.000      -0.011      -0.005\n",
      "RF             0.0326      0.061      0.532      0.595      -0.088       0.153\n",
      "T10Y3M        -0.0007      0.001     -1.129      0.259      -0.002       0.001\n",
      "==============================================================================\n",
      "Omnibus:                      784.654   Durbin-Watson:                   1.912\n",
      "Prob(Omnibus):                  0.000   Jarque-Bera (JB):            99831.420\n",
      "Skew:                          -2.153   Prob(JB):                         0.00\n",
      "Kurtosis:                      47.970   Cond. No.                         142.\n",
      "==============================================================================\n",
      "\n",
      "Notes:\n",
      "[1] R² is computed without centering (uncentered) since the model does not contain a constant.\n",
      "[2] Standard Errors assume that the covariance matrix of the errors is correctly specified.\n",
      "benchmark: corr (Y, Y_pred) = 0.6850610956871785\n",
      "Hard Thresholding selected 6 features:  ['Mkt-RF' 'HML' 'RMW' 'CMA' 'RF' 'T10Y3M']\n"
     ]
    }
   ],
   "source": [
    "# benchmark model: ordinary linear regression\n",
    "# Benchmark Model: Two-Step Factor Selection (Hard Thresholding Method)\n",
    "# Motivation: the method selects features according to their significance in \n",
    "# an OLS regression for Y\n",
    "# Step 1: regress Y on each feature in X and remove those whose p-val > 0.05 (|t|<1.96)\n",
    "# Step 2: regress Y on the subset of X\n",
    "X = sm.add_constant(X)\n",
    "X = X.fillna(0)\n",
    "print(X.shape)\n",
    "print(y.shape)\n",
    "benchmark_prep = sm.OLS(y,X).fit()\n",
    "benchmark_prep.summary()\n",
    "benchmark_select = X.columns[np.abs(benchmark_prep.tvalues)>=1.96]\n",
    "x = X[benchmark_select]\n",
    "benchmark = sm.OLS(y,x).fit()\n",
    "print(benchmark.summary())\n",
    "y_hat_benchmark1 = benchmark.predict(x)\n",
    "corr_benchmark1 = ss.pearsonr(y_hat_benchmark1, y)[0]\n",
    "print('benchmark: corr (Y, Y_pred) = '+str(corr_benchmark1))\n",
    "print('Hard Thresholding selected ' +str(len(benchmark_select)) +' features: ', benchmark_select.values)"
   ]
  },
  {
   "cell_type": "code",
   "execution_count": 26,
   "id": "8bc1a832-af96-4c98-923f-73417f630c52",
   "metadata": {},
   "outputs": [
    {
     "name": "stdout",
     "output_type": "stream",
     "text": [
      "                            OLS Regression Results                            \n",
      "==============================================================================\n",
      "Dep. Variable:                      y   R-squared:                       0.480\n",
      "Model:                            OLS   Adj. R-squared:                  0.471\n",
      "Method:                 Least Squares   F-statistic:                     56.03\n",
      "Date:                Sun, 08 Dec 2024   Prob (F-statistic):          8.38e-149\n",
      "Time:                        16:42:22   Log-Likelihood:                 2863.2\n",
      "No. Observations:                1174   AIC:                            -5686.\n",
      "Df Residuals:                    1154   BIC:                            -5585.\n",
      "Df Model:                          19                                         \n",
      "Covariance Type:            nonrobust                                         \n",
      "==================================================================================\n",
      "                     coef    std err          t      P>|t|      [0.025      0.975]\n",
      "----------------------------------------------------------------------------------\n",
      "const              0.0420      0.042      1.012      0.312      -0.039       0.123\n",
      "Mkt-RF             0.0120      0.000     24.550      0.000       0.011       0.013\n",
      "SMB               -0.0017      0.001     -1.814      0.070      -0.004       0.000\n",
      "HML               -0.0040      0.001     -4.812      0.000      -0.006      -0.002\n",
      "RMW                0.0027      0.001      2.307      0.021       0.000       0.005\n",
      "CMA               -0.0085      0.001     -5.790      0.000      -0.011      -0.006\n",
      "RF                 1.8702      0.677      2.764      0.006       0.543       3.198\n",
      "T10Y3M             0.0184      0.007      2.583      0.010       0.004       0.032\n",
      "DGS10             -0.0118      0.013     -0.887      0.375      -0.038       0.014\n",
      "OBMMIJUMBO30YF     0.0045      0.005      0.960      0.337      -0.005       0.014\n",
      "DEXUSEU           -0.0079      0.041     -0.190      0.849      -0.089       0.073\n",
      "DEXUSUK           -0.0426      0.036     -1.181      0.238      -0.114       0.028\n",
      "T10YIE             0.0048      0.016      0.303      0.762      -0.026       0.036\n",
      "DAAA              -0.0080      0.010     -0.834      0.405      -0.027       0.011\n",
      "DBAA               0.0059      0.012      0.510      0.610      -0.017       0.029\n",
      "AMERIBOR           0.0085      0.005      1.829      0.068      -0.001       0.018\n",
      "T5YIE              0.0057      0.011      0.522      0.602      -0.016       0.027\n",
      "BAMLH0A0HYM2       0.0187      0.015      1.289      0.198      -0.010       0.047\n",
      "BAMLH0A0HYM2EY    -0.0200      0.014     -1.460      0.144      -0.047       0.007\n",
      "DGS1               0.0100      0.008      1.259      0.208      -0.006       0.025\n",
      "==============================================================================\n",
      "Omnibus:                      769.121   Durbin-Watson:                   1.935\n",
      "Prob(Omnibus):                  0.000   Jarque-Bera (JB):            90086.499\n",
      "Skew:                          -2.105   Prob(JB):                         0.00\n",
      "Kurtosis:                      45.707   Cond. No.                     1.41e+04\n",
      "==============================================================================\n",
      "\n",
      "Notes:\n",
      "[1] Standard Errors assume that the covariance matrix of the errors is correctly specified.\n",
      "[2] The condition number is large, 1.41e+04. This might indicate that there are\n",
      "strong multicollinearity or other numerical problems.\n",
      "model 2 Ridge Regression: corr (Y, Y_pred) = 0.6927166945460942\n",
      "Ridge Regression selected 20 features:  ['const' 'Mkt-RF' 'SMB' 'HML' 'RMW' 'CMA' 'RF' 'T10Y3M' 'DGS10'\n",
      " 'OBMMIJUMBO30YF' 'DEXUSEU' 'DEXUSUK' 'T10YIE' 'DAAA' 'DBAA' 'AMERIBOR'\n",
      " 'T5YIE' 'BAMLH0A0HYM2' 'BAMLH0A0HYM2EY' 'DGS1']\n"
     ]
    }
   ],
   "source": [
    "# Ridge regression\n",
    "# Motivation: the model sets the objective function to be the \n",
    "# sum of squared residuals from OLS + penalty function \n",
    "# that penalizes squared values of beta. A minimization process squeezes \n",
    "# the small beta values close to 0. \n",
    "# a represents the obj function's sensitivity to the penalty term   \n",
    "# Steo 1. run Ridge Regression and obtain coefficients\n",
    "# Step 2. remove features with coefficients close to 0 and run OLS \n",
    "a = 0.5\n",
    "model2_prep = linear_model.Ridge(alpha=a, fit_intercept=False).fit(X, y)\n",
    "model2_select = X.columns[np.abs(model2_prep.coef_)>=0.001]\n",
    "x = X[model2_select]\n",
    "model2 = sm.OLS(y,x).fit()\n",
    "print(model2.summary())\n",
    "y_pred_model2 = model2.predict(x)\n",
    "corr_model2 = ss.pearsonr(y_pred_model2, y)[0]\n",
    "print('model 2 Ridge Regression: corr (Y, Y_pred) = '+str(corr_model2))\n",
    "print('Ridge Regression selected ' +str(len(model2_select)) +' features: ', model2_select.values)"
   ]
  },
  {
   "cell_type": "code",
   "execution_count": 27,
   "id": "ed4562c4-2175-45ad-a632-fee1516ae09e",
   "metadata": {},
   "outputs": [
    {
     "name": "stdout",
     "output_type": "stream",
     "text": [
      "                                 OLS Regression Results                                \n",
      "=======================================================================================\n",
      "Dep. Variable:                      y   R-squared (uncentered):                   0.001\n",
      "Model:                            OLS   Adj. R-squared (uncentered):              0.000\n",
      "Method:                 Least Squares   F-statistic:                              1.019\n",
      "Date:                Sun, 08 Dec 2024   Prob (F-statistic):                       0.313\n",
      "Time:                        16:42:22   Log-Likelihood:                          2479.6\n",
      "No. Observations:                1174   AIC:                                     -4957.\n",
      "Df Residuals:                    1173   BIC:                                     -4952.\n",
      "Df Model:                           1                                                  \n",
      "Covariance Type:            nonrobust                                                  \n",
      "==============================================================================\n",
      "                 coef    std err          t      P>|t|      [0.025      0.975]\n",
      "------------------------------------------------------------------------------\n",
      "SP500       2.054e-07   2.04e-07      1.009      0.313   -1.94e-07    6.05e-07\n",
      "==============================================================================\n",
      "Omnibus:                      504.238   Durbin-Watson:                   2.094\n",
      "Prob(Omnibus):                  0.000   Jarque-Bera (JB):            24608.048\n",
      "Skew:                          -1.216   Prob(JB):                         0.00\n",
      "Kurtosis:                      25.297   Cond. No.                         1.00\n",
      "==============================================================================\n",
      "\n",
      "Notes:\n",
      "[1] R² is computed without centering (uncentered) since the model does not contain a constant.\n",
      "[2] Standard Errors assume that the covariance matrix of the errors is correctly specified.\n",
      "model 3 LASSO: corr (Y, Y_pred) = 0.021615288359628004\n",
      "LASSO selected 1 features:  ['SP500']\n"
     ]
    }
   ],
   "source": [
    "# LASSO\n",
    "a = 0.5\n",
    "model3_prep = linear_model.Lasso(alpha=a, fit_intercept=False).fit(X, y)\n",
    "model3_select = X.columns[np.abs(model3_prep.coef_)!=0.0]\n",
    "x = X[model3_select]\n",
    "model3 = sm.OLS(y,x).fit()\n",
    "print(model3.summary())\n",
    "y_pred_model3 = model3.predict(x)\n",
    "corr_model3 = ss.pearsonr(y_pred_model3, y)[0]\n",
    "print('model 3 LASSO: corr (Y, Y_pred) = '+str(corr_model3))\n",
    "print('LASSO selected ' +str(len(model3_select)) +' features: ', model3_select.values)"
   ]
  },
  {
   "cell_type": "code",
   "execution_count": 28,
   "id": "204c797f-7522-4398-b4ac-2a4bb722ee94",
   "metadata": {},
   "outputs": [
    {
     "name": "stdout",
     "output_type": "stream",
     "text": [
      "                                 OLS Regression Results                                \n",
      "=======================================================================================\n",
      "Dep. Variable:                      y   R-squared (uncentered):                   0.002\n",
      "Model:                            OLS   Adj. R-squared (uncentered):             -0.001\n",
      "Method:                 Least Squares   F-statistic:                             0.7691\n",
      "Date:                Sun, 08 Dec 2024   Prob (F-statistic):                       0.511\n",
      "Time:                        16:42:22   Log-Likelihood:                          2480.3\n",
      "No. Observations:                1174   AIC:                                     -4955.\n",
      "Df Residuals:                    1171   BIC:                                     -4939.\n",
      "Df Model:                           3                                                  \n",
      "Covariance Type:            nonrobust                                                  \n",
      "==============================================================================\n",
      "                 coef    std err          t      P>|t|      [0.025      0.975]\n",
      "------------------------------------------------------------------------------\n",
      "SP500       4.589e-07   5.65e-07      0.812      0.417   -6.51e-07    1.57e-06\n",
      "CBBTCUSD    7.401e-08    1.1e-07      0.671      0.502   -1.42e-07     2.9e-07\n",
      "CBETHUSD   -1.801e-06   1.68e-06     -1.071      0.284    -5.1e-06     1.5e-06\n",
      "==============================================================================\n",
      "Omnibus:                      501.542   Durbin-Watson:                   2.097\n",
      "Prob(Omnibus):                  0.000   Jarque-Bera (JB):            24418.635\n",
      "Skew:                          -1.205   Prob(JB):                         0.00\n",
      "Kurtosis:                      25.212   Cond. No.                         75.4\n",
      "==============================================================================\n",
      "\n",
      "Notes:\n",
      "[1] R² is computed without centering (uncentered) since the model does not contain a constant.\n",
      "[2] Standard Errors assume that the covariance matrix of the errors is correctly specified.\n",
      "model 4 Elastic Net: corr (Y, Y_pred) = 0.021615288359628004\n",
      "ElasticNet selected 3 features:  ['SP500' 'CBBTCUSD' 'CBETHUSD']\n"
     ]
    }
   ],
   "source": [
    "# Elastic net\n",
    "a = 0.5\n",
    "model4_prep = linear_model.ElasticNet(alpha=a, fit_intercept=False).fit(X, y)\n",
    "model4_select = X.columns[np.abs(model4_prep.coef_)!=0.0]\n",
    "x = X[model4_select]\n",
    "model4 = sm.OLS(y,x).fit()\n",
    "print(model4.summary())\n",
    "y_pred_model4 = model4.predict(x)\n",
    "corr_model4 = ss.pearsonr(y_pred_model4, y)[0]\n",
    "print('model 4 Elastic Net: corr (Y, Y_pred) = '+str(corr_model3))\n",
    "print('ElasticNet selected ' +str(len(model4_select)) +' features: ', model4_select.values)"
   ]
  },
  {
   "cell_type": "code",
   "execution_count": null,
   "id": "5cef3c1e-f54f-4d73-acaa-5ec38381ce85",
   "metadata": {},
   "outputs": [],
   "source": []
  },
  {
   "cell_type": "code",
   "execution_count": null,
   "id": "c97b9a56-5fba-4bd3-8f59-0717d2546a73",
   "metadata": {},
   "outputs": [],
   "source": []
  },
  {
   "cell_type": "code",
   "execution_count": null,
   "id": "4e1a1ed5-6a76-4963-a305-c734035d1827",
   "metadata": {},
   "outputs": [],
   "source": []
  },
  {
   "cell_type": "code",
   "execution_count": null,
   "id": "049aee0b-1982-47e3-919e-1e12e2fe8c27",
   "metadata": {},
   "outputs": [],
   "source": []
  },
  {
   "cell_type": "code",
   "execution_count": null,
   "id": "d41f007e-bb82-4961-9ff8-782b296b506a",
   "metadata": {},
   "outputs": [],
   "source": []
  },
  {
   "cell_type": "code",
   "execution_count": null,
   "id": "8fcc8323-1103-4091-ba52-1ddfc283dae0",
   "metadata": {},
   "outputs": [],
   "source": []
  },
  {
   "cell_type": "code",
   "execution_count": null,
   "id": "34e666e6-42d8-4c27-8238-94437a2d6bae",
   "metadata": {},
   "outputs": [],
   "source": []
  },
  {
   "cell_type": "code",
   "execution_count": null,
   "id": "89dc5b44-2b01-4680-bebe-80a20689f7bf",
   "metadata": {},
   "outputs": [],
   "source": []
  },
  {
   "cell_type": "code",
   "execution_count": null,
   "id": "06e32f80-32d7-4a09-8edf-97e06f5a3ad1",
   "metadata": {},
   "outputs": [],
   "source": []
  },
  {
   "cell_type": "code",
   "execution_count": null,
   "id": "8fec3c61-c3e0-41b5-8a97-9a1367d02190",
   "metadata": {},
   "outputs": [],
   "source": []
  },
  {
   "cell_type": "code",
   "execution_count": null,
   "id": "233f3be5-f99c-4cc9-86cb-1ef105edc835",
   "metadata": {},
   "outputs": [],
   "source": []
  },
  {
   "cell_type": "code",
   "execution_count": null,
   "id": "9eed35d2-c86b-4b24-b56d-48b5a8c65abc",
   "metadata": {},
   "outputs": [],
   "source": []
  },
  {
   "cell_type": "code",
   "execution_count": null,
   "id": "8b692e5f-a54d-4d96-ba44-61ffa4a57089",
   "metadata": {},
   "outputs": [],
   "source": []
  },
  {
   "cell_type": "code",
   "execution_count": null,
   "id": "43e68d57-aa3c-4653-9c77-590dbfb8348e",
   "metadata": {},
   "outputs": [],
   "source": []
  },
  {
   "cell_type": "code",
   "execution_count": null,
   "id": "85da2e97-ee45-4caa-8851-5984ec2a7d56",
   "metadata": {},
   "outputs": [],
   "source": []
  },
  {
   "cell_type": "code",
   "execution_count": null,
   "id": "a72ab3ae-6e8d-4db3-b7b0-7595f9140457",
   "metadata": {},
   "outputs": [],
   "source": []
  },
  {
   "cell_type": "code",
   "execution_count": null,
   "id": "409df535-d2c6-4288-9b7d-51a7acdbc37d",
   "metadata": {},
   "outputs": [],
   "source": []
  },
  {
   "cell_type": "code",
   "execution_count": null,
   "id": "bc1be773-d14d-4752-8b71-524505fefda5",
   "metadata": {},
   "outputs": [],
   "source": []
  },
  {
   "cell_type": "code",
   "execution_count": null,
   "id": "b1d4034e-f4b1-4fd9-8eb6-d8fbcf7d317e",
   "metadata": {},
   "outputs": [],
   "source": []
  },
  {
   "cell_type": "code",
   "execution_count": null,
   "id": "3e544d77-cfb7-471e-a803-4087cd54096a",
   "metadata": {},
   "outputs": [],
   "source": []
  },
  {
   "cell_type": "code",
   "execution_count": null,
   "id": "f2412494-8630-49bd-9fb9-f6b62cedfac4",
   "metadata": {},
   "outputs": [],
   "source": []
  },
  {
   "cell_type": "code",
   "execution_count": null,
   "id": "92c9322b-acf0-4f9b-b86c-4d8986ebacfe",
   "metadata": {},
   "outputs": [],
   "source": []
  },
  {
   "cell_type": "code",
   "execution_count": null,
   "id": "17950a87-4c5f-4d68-9656-37b7fd2bef94",
   "metadata": {},
   "outputs": [],
   "source": []
  },
  {
   "cell_type": "code",
   "execution_count": null,
   "id": "cef97359-1268-4f53-b1ee-03b282159bc1",
   "metadata": {},
   "outputs": [],
   "source": []
  },
  {
   "cell_type": "code",
   "execution_count": null,
   "id": "5a1b0c02-93fe-4ae6-9869-f22d165dd821",
   "metadata": {},
   "outputs": [],
   "source": []
  },
  {
   "cell_type": "code",
   "execution_count": null,
   "id": "430ebfc4-13af-4fb7-9b0a-0eda67288ce9",
   "metadata": {},
   "outputs": [],
   "source": []
  },
  {
   "cell_type": "code",
   "execution_count": null,
   "id": "cea87246-c11c-4bf0-b749-30c8d128068a",
   "metadata": {},
   "outputs": [],
   "source": []
  },
  {
   "cell_type": "code",
   "execution_count": null,
   "id": "95be6706-094f-4c1b-85a0-eeec8bc09643",
   "metadata": {},
   "outputs": [],
   "source": []
  },
  {
   "cell_type": "code",
   "execution_count": null,
   "id": "40e92f49-88de-4f2f-9813-67dd631b2f0a",
   "metadata": {},
   "outputs": [],
   "source": []
  },
  {
   "cell_type": "code",
   "execution_count": null,
   "id": "c3bdf6d5-8ab2-4388-9477-cd505b2cae2a",
   "metadata": {},
   "outputs": [],
   "source": []
  },
  {
   "cell_type": "code",
   "execution_count": null,
   "id": "3d94abfc-f951-4988-897a-8a4b7559d14d",
   "metadata": {},
   "outputs": [],
   "source": []
  },
  {
   "cell_type": "code",
   "execution_count": null,
   "id": "3f82bb50-024e-43a0-bcf1-e5daf8515f94",
   "metadata": {},
   "outputs": [],
   "source": []
  },
  {
   "cell_type": "code",
   "execution_count": null,
   "id": "ba60ecc2-48c7-415a-99c4-f9d7f419f98d",
   "metadata": {},
   "outputs": [],
   "source": []
  },
  {
   "cell_type": "code",
   "execution_count": null,
   "id": "d8aaa704-9332-480e-ab70-6dc9f84f3685",
   "metadata": {},
   "outputs": [],
   "source": []
  },
  {
   "cell_type": "code",
   "execution_count": null,
   "id": "57f7c7a9-65f7-4373-87dc-b5be087b6ea5",
   "metadata": {},
   "outputs": [],
   "source": []
  },
  {
   "cell_type": "code",
   "execution_count": null,
   "id": "93d8ab45-b501-4703-9148-40a05caf8593",
   "metadata": {},
   "outputs": [],
   "source": []
  },
  {
   "cell_type": "code",
   "execution_count": null,
   "id": "a4d5b3e0-014b-4bd5-b8d3-3a7d0beef5e0",
   "metadata": {},
   "outputs": [],
   "source": []
  },
  {
   "cell_type": "code",
   "execution_count": null,
   "id": "b1107d88-a619-4278-9a7a-7937f7a813e5",
   "metadata": {},
   "outputs": [],
   "source": []
  },
  {
   "cell_type": "code",
   "execution_count": null,
   "id": "4fed9671-557c-4053-8fd1-9facf45265df",
   "metadata": {},
   "outputs": [],
   "source": []
  },
  {
   "cell_type": "code",
   "execution_count": null,
   "id": "b0f0a442-f5e4-4959-8333-221dd6bb4b60",
   "metadata": {},
   "outputs": [],
   "source": []
  },
  {
   "cell_type": "code",
   "execution_count": null,
   "id": "e22b6f13-851a-47a0-97f7-fbc83e195e58",
   "metadata": {},
   "outputs": [],
   "source": []
  },
  {
   "cell_type": "code",
   "execution_count": null,
   "id": "fb8c09d1-1e76-4be2-bff9-c4e0c34e4181",
   "metadata": {},
   "outputs": [],
   "source": []
  },
  {
   "cell_type": "code",
   "execution_count": null,
   "id": "5072c8a3-4500-43fe-ae1a-5d3252a384f6",
   "metadata": {},
   "outputs": [],
   "source": []
  }
 ],
 "metadata": {
  "kernelspec": {
   "display_name": "Python 3 (ipykernel)",
   "language": "python",
   "name": "python3"
  },
  "language_info": {
   "codemirror_mode": {
    "name": "ipython",
    "version": 3
   },
   "file_extension": ".py",
   "mimetype": "text/x-python",
   "name": "python",
   "nbconvert_exporter": "python",
   "pygments_lexer": "ipython3",
   "version": "3.11.5"
  }
 },
 "nbformat": 4,
 "nbformat_minor": 5
}
